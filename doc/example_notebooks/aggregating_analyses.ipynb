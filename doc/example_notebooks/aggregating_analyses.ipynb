{
 "cells": [
  {
   "cell_type": "markdown",
   "metadata": {},
   "source": [
    "## aggregating every test in an analysis\n",
    "\n",
    "For complex analyses we often perform many different tests (e.g. compute pairwise correlations for every variable in each of several datasets). The `Union()` object provides helpful abstraction to aggregate all these pvalues and adjust them to correct for multiple testing. "
   ]
  },
  {
   "cell_type": "code",
   "execution_count": 1,
   "metadata": {},
   "outputs": [],
   "source": [
    "import numpy as np\n",
    "import pandas as pd\n",
    "%matplotlib inline\n",
    "\n",
    "from explore.Base import Union\n",
    "from explore.SingleBlock import SingleBlock"
   ]
  },
  {
   "cell_type": "code",
   "execution_count": 2,
   "metadata": {},
   "outputs": [],
   "source": [
    "# sample 4 datasets\n",
    "# notice that the variables are all independent of each dataset\n",
    "# so in principle we should not see any associations\n",
    "dims = [10, 20, 30, 40]\n",
    "n_samples = 100\n",
    "\n",
    "np.random.seed(3423)\n",
    "datasets = []\n",
    "for dim in dims:\n",
    "    X = np.random.normal(size=(n_samples, dim))\n",
    "    datasets.append(X)"
   ]
  },
  {
   "cell_type": "code",
   "execution_count": 3,
   "metadata": {},
   "outputs": [],
   "source": [
    "# SingleBlock() makes all pairwise comparisions of variables within a dataset\n",
    "# e.g. computes all pairwise correlations\n",
    "pairwise_explorations = []\n",
    "for d in range(len(datasets)):\n",
    "    pairwise_explorations.append(SingleBlock().fit(datasets[d]))"
   ]
  },
  {
   "cell_type": "code",
   "execution_count": 4,
   "metadata": {},
   "outputs": [
    {
     "data": {
      "text/plain": [
       "0.044014173512076225"
      ]
     },
     "execution_count": 4,
     "metadata": {},
     "output_type": "execute_result"
    }
   ],
   "source": [
    "# (raw) pvalue for comparing variables 0 and 1 in dataset 0\n",
    "# note that variables 0 and 1 are independent so the fact this pvalue \n",
    "# is less than 0.05 is a spurious correlation!\n",
    "pairwise_explorations[0].comparisons_[frozenset({0, 1})].pval_"
   ]
  },
  {
   "cell_type": "code",
   "execution_count": 5,
   "metadata": {},
   "outputs": [
    {
     "data": {
      "text/plain": [
       "Union(alpha=0.05, multi_test='fdr_bh')"
      ]
     },
     "execution_count": 5,
     "metadata": {},
     "output_type": "execute_result"
    }
   ],
   "source": [
    "# the Union() object aggregates every test which in this case\n",
    "# means all 4 SingleBlock() objects. We can then control for \n",
    "# multiple testing using Benjamini Hochberg\n",
    "agg = Union(multi_test='fdr_bh')\n",
    "\n",
    "# put all test in a list of tuples where the first term is\n",
    "# a name and the second term is the test object\n",
    "all_tests = [('dataset_{}'.format(d), pairwise_explorations[d])\n",
    "             for d in range(len(datasets))]\n",
    "\n",
    "agg.add_tests(all_tests)\n",
    "     \n",
    "# correct pvalues for every test\n",
    "agg.correct_multi_tests()"
   ]
  },
  {
   "cell_type": "code",
   "execution_count": 6,
   "metadata": {},
   "outputs": [
    {
     "data": {
      "text/plain": [
       "0.913103155104317"
      ]
     },
     "execution_count": 6,
     "metadata": {},
     "output_type": "execute_result"
    }
   ],
   "source": [
    "# (adjusted) pvalue for comparing variables 0 and 1 in dataset 0\n",
    "# after correcting for multiple testing variables 0 and 1 are no longer\n",
    "# show a significant association!\n",
    "pairwise_explorations[0].comparisons_[frozenset({0, 1})].pval_"
   ]
  },
  {
   "cell_type": "code",
   "execution_count": 7,
   "metadata": {},
   "outputs": [
    {
     "data": {
      "text/plain": [
       "0.044014173512076225"
      ]
     },
     "execution_count": 7,
     "metadata": {},
     "output_type": "execute_result"
    }
   ],
   "source": [
    "# we can still access the raw pvalue through .pval_raw_\n",
    "pairwise_explorations[0].comparisons_[frozenset({0, 1})].pval_raw_"
   ]
  }
 ],
 "metadata": {
  "kernelspec": {
   "display_name": "Python 3",
   "language": "python",
   "name": "python3"
  },
  "language_info": {
   "codemirror_mode": {
    "name": "ipython",
    "version": 3
   },
   "file_extension": ".py",
   "mimetype": "text/x-python",
   "name": "python",
   "nbconvert_exporter": "python",
   "pygments_lexer": "ipython3",
   "version": "3.7.2"
  }
 },
 "nbformat": 4,
 "nbformat_minor": 2
}
